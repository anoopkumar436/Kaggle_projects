{
 "cells": [
  {
   "cell_type": "code",
   "execution_count": 1,
   "id": "nuclear-brook",
   "metadata": {
    "_cell_guid": "b1076dfc-b9ad-4769-8c92-a6c4dae69d19",
    "_uuid": "8f2839f25d086af736a60e9eeb907d3b93b6e0e5",
    "execution": {
     "iopub.execute_input": "2021-06-30T19:53:19.727985Z",
     "iopub.status.busy": "2021-06-30T19:53:19.726963Z",
     "iopub.status.idle": "2021-06-30T19:53:19.744680Z",
     "shell.execute_reply": "2021-06-30T19:53:19.745074Z",
     "shell.execute_reply.started": "2021-06-30T19:50:52.445842Z"
    },
    "papermill": {
     "duration": 0.050572,
     "end_time": "2021-06-30T19:53:19.745334",
     "exception": false,
     "start_time": "2021-06-30T19:53:19.694762",
     "status": "completed"
    },
    "tags": []
   },
   "outputs": [
    {
     "name": "stdout",
     "output_type": "stream",
     "text": [
      "/kaggle/input/heart-attack-analysis-prediction-dataset/o2Saturation.csv\n",
      "/kaggle/input/heart-attack-analysis-prediction-dataset/heart.csv\n"
     ]
    }
   ],
   "source": [
    "# This Python 3 environment comes with many helpful analytics libraries installed\n",
    "# It is defined by the kaggle/python Docker image: https://github.com/kaggle/docker-python\n",
    "# For example, here's several helpful packages to load\n",
    "\n",
    "import numpy as np # linear algebra\n",
    "import pandas as pd # data processing, CSV file I/O (e.g. pd.read_csv)\n",
    "\n",
    "# Input data files are available in the read-only \"../input/\" directory\n",
    "# For example, running this (by clicking run or pressing Shift+Enter) will list all files under the input directory\n",
    "\n",
    "import os\n",
    "for dirname, _, filenames in os.walk('/kaggle/input'):\n",
    "    for filename in filenames:\n",
    "        print(os.path.join(dirname, filename))\n",
    "\n",
    "# You can write up to 20GB to the current directory (/kaggle/working/) that gets preserved as output when you create a version using \"Save & Run All\" \n",
    "# You can also write temporary files to /kaggle/temp/, but they won't be saved outside of the current session"
   ]
  },
  {
   "cell_type": "markdown",
   "id": "honey-directive",
   "metadata": {
    "papermill": {
     "duration": 0.029762,
     "end_time": "2021-06-30T19:53:19.804526",
     "exception": false,
     "start_time": "2021-06-30T19:53:19.774764",
     "status": "completed"
    },
    "tags": []
   },
   "source": []
  },
  {
   "cell_type": "markdown",
   "id": "phantom-leave",
   "metadata": {
    "papermill": {
     "duration": 0.028684,
     "end_time": "2021-06-30T19:53:19.861630",
     "exception": false,
     "start_time": "2021-06-30T19:53:19.832946",
     "status": "completed"
    },
    "tags": []
   },
   "source": [
    "## Index\n",
    "1. Dataset description\n",
    "2. Exploratory data analysis (EDA)\n",
    "3. Data Preprocessing and Normailzation\n",
    "4. Feature Engineering\n",
    "5. Model Building\n",
    "6. ROC Curve\n",
    "7. conclusion"
   ]
  },
  {
   "cell_type": "code",
   "execution_count": null,
   "id": "removed-adams",
   "metadata": {
    "papermill": {
     "duration": 0.028913,
     "end_time": "2021-06-30T19:53:19.919097",
     "exception": false,
     "start_time": "2021-06-30T19:53:19.890184",
     "status": "completed"
    },
    "tags": []
   },
   "outputs": [],
   "source": []
  },
  {
   "cell_type": "markdown",
   "id": "native-penetration",
   "metadata": {
    "papermill": {
     "duration": 0.027926,
     "end_time": "2021-06-30T19:53:19.976568",
     "exception": false,
     "start_time": "2021-06-30T19:53:19.948642",
     "status": "completed"
    },
    "tags": []
   },
   "source": [
    "## Dataset description\n",
    "\n",
    "1. Age : Age of the patient\n",
    "2. Sex : Sex of the patient\n",
    "3. exang: exercise induced angina (1 = yes; 0 = no)\n",
    "4. ca: number of major vessels (0-3)\n",
    "5. cp : Chest Pain type chest pain type\n",
    "        Value 1: typical angina\n",
    "        Value 2: atypical angina\n",
    "        Value 3: non-anginal pain\n",
    "        Value 4: asymptomatic\n",
    "6. trtbps : resting blood pressure (in mm Hg)\n",
    "7. chol : cholestoral in mg/dl fetched via BMI sensor\n",
    "8. fbs : (fasting blood sugar > 120 mg/dl) (1 = true; 0 = false)\n",
    "9. rest_ecg : resting electrocardiographic results\n",
    "        Value 0: normal\n",
    "        Value 1: having ST-T wave abnormality (T wave inversions and/or ST elevation or depression of > 0.05 mV)\n",
    "        Value 2: showing probable or definite left ventricular hypertrophy by Estes' criteria\n",
    "10. thalach : maximum heart rate achieved\n",
    "11. target : 0= less chance of heart attack 1= more chance of heart attack"
   ]
  },
  {
   "cell_type": "markdown",
   "id": "heavy-concord",
   "metadata": {
    "papermill": {
     "duration": 0.02715,
     "end_time": "2021-06-30T19:53:20.030800",
     "exception": false,
     "start_time": "2021-06-30T19:53:20.003650",
     "status": "completed"
    },
    "tags": []
   },
   "source": []
  },
  {
   "cell_type": "code",
   "execution_count": 2,
   "id": "automotive-meditation",
   "metadata": {
    "execution": {
     "iopub.execute_input": "2021-06-30T19:53:20.092611Z",
     "iopub.status.busy": "2021-06-30T19:53:20.091975Z",
     "iopub.status.idle": "2021-06-30T19:53:21.038263Z",
     "shell.execute_reply": "2021-06-30T19:53:21.039203Z",
     "shell.execute_reply.started": "2021-06-30T19:50:52.468180Z"
    },
    "papermill": {
     "duration": 0.980467,
     "end_time": "2021-06-30T19:53:21.039406",
     "exception": false,
     "start_time": "2021-06-30T19:53:20.058939",
     "status": "completed"
    },
    "tags": []
   },
   "outputs": [],
   "source": [
    "import numpy as np\n",
    "import pandas as pd\n",
    "import seaborn as sns\n",
    "import matplotlib.pyplot as plt\n",
    "from sklearn.metrics import roc_curve, roc_auc_score\n",
    "from sklearn.metrics import confusion_matrix ,classification_report,precision_score, recall_score ,f1_score \n",
    "\n",
    "from sklearn.model_selection import train_test_split\n",
    "from sklearn.linear_model import LogisticRegression  \n",
    "from sklearn.neighbors import KNeighborsClassifier\n",
    "from sklearn.naive_bayes import GaussianNB\n",
    "from sklearn.svm import SVC \n",
    "import warnings\n",
    "warnings.filterwarnings('ignore')"
   ]
  },
  {
   "cell_type": "code",
   "execution_count": 3,
   "id": "continuing-fishing",
   "metadata": {
    "execution": {
     "iopub.execute_input": "2021-06-30T19:53:21.112800Z",
     "iopub.status.busy": "2021-06-30T19:53:21.112200Z",
     "iopub.status.idle": "2021-06-30T19:53:21.122211Z",
     "shell.execute_reply": "2021-06-30T19:53:21.122703Z",
     "shell.execute_reply.started": "2021-06-30T19:50:53.818314Z"
    },
    "papermill": {
     "duration": 0.044489,
     "end_time": "2021-06-30T19:53:21.122876",
     "exception": false,
     "start_time": "2021-06-30T19:53:21.078387",
     "status": "completed"
    },
    "tags": []
   },
   "outputs": [],
   "source": [
    "data = pd.read_csv('/kaggle/input/heart-attack-analysis-prediction-dataset/heart.csv')"
   ]
  },
  {
   "cell_type": "code",
   "execution_count": 4,
   "id": "hairy-vegetation",
   "metadata": {
    "execution": {
     "iopub.execute_input": "2021-06-30T19:53:21.185694Z",
     "iopub.status.busy": "2021-06-30T19:53:21.185116Z",
     "iopub.status.idle": "2021-06-30T19:53:21.211846Z",
     "shell.execute_reply": "2021-06-30T19:53:21.211213Z",
     "shell.execute_reply.started": "2021-06-30T19:50:53.840300Z"
    },
    "papermill": {
     "duration": 0.05857,
     "end_time": "2021-06-30T19:53:21.211968",
     "exception": false,
     "start_time": "2021-06-30T19:53:21.153398",
     "status": "completed"
    },
    "tags": []
   },
   "outputs": [
    {
     "data": {
      "text/html": [
       "<div>\n",
       "<style scoped>\n",
       "    .dataframe tbody tr th:only-of-type {\n",
       "        vertical-align: middle;\n",
       "    }\n",
       "\n",
       "    .dataframe tbody tr th {\n",
       "        vertical-align: top;\n",
       "    }\n",
       "\n",
       "    .dataframe thead th {\n",
       "        text-align: right;\n",
       "    }\n",
       "</style>\n",
       "<table border=\"1\" class=\"dataframe\">\n",
       "  <thead>\n",
       "    <tr style=\"text-align: right;\">\n",
       "      <th></th>\n",
       "      <th>age</th>\n",
       "      <th>sex</th>\n",
       "      <th>cp</th>\n",
       "      <th>trtbps</th>\n",
       "      <th>chol</th>\n",
       "      <th>fbs</th>\n",
       "      <th>restecg</th>\n",
       "      <th>thalachh</th>\n",
       "      <th>exng</th>\n",
       "      <th>oldpeak</th>\n",
       "      <th>slp</th>\n",
       "      <th>caa</th>\n",
       "      <th>thall</th>\n",
       "      <th>output</th>\n",
       "    </tr>\n",
       "  </thead>\n",
       "  <tbody>\n",
       "    <tr>\n",
       "      <th>0</th>\n",
       "      <td>63</td>\n",
       "      <td>1</td>\n",
       "      <td>3</td>\n",
       "      <td>145</td>\n",
       "      <td>233</td>\n",
       "      <td>1</td>\n",
       "      <td>0</td>\n",
       "      <td>150</td>\n",
       "      <td>0</td>\n",
       "      <td>2.3</td>\n",
       "      <td>0</td>\n",
       "      <td>0</td>\n",
       "      <td>1</td>\n",
       "      <td>1</td>\n",
       "    </tr>\n",
       "    <tr>\n",
       "      <th>1</th>\n",
       "      <td>37</td>\n",
       "      <td>1</td>\n",
       "      <td>2</td>\n",
       "      <td>130</td>\n",
       "      <td>250</td>\n",
       "      <td>0</td>\n",
       "      <td>1</td>\n",
       "      <td>187</td>\n",
       "      <td>0</td>\n",
       "      <td>3.5</td>\n",
       "      <td>0</td>\n",
       "      <td>0</td>\n",
       "      <td>2</td>\n",
       "      <td>1</td>\n",
       "    </tr>\n",
       "    <tr>\n",
       "      <th>2</th>\n",
       "      <td>41</td>\n",
       "      <td>0</td>\n",
       "      <td>1</td>\n",
       "      <td>130</td>\n",
       "      <td>204</td>\n",
       "      <td>0</td>\n",
       "      <td>0</td>\n",
       "      <td>172</td>\n",
       "      <td>0</td>\n",
       "      <td>1.4</td>\n",
       "      <td>2</td>\n",
       "      <td>0</td>\n",
       "      <td>2</td>\n",
       "      <td>1</td>\n",
       "    </tr>\n",
       "    <tr>\n",
       "      <th>3</th>\n",
       "      <td>56</td>\n",
       "      <td>1</td>\n",
       "      <td>1</td>\n",
       "      <td>120</td>\n",
       "      <td>236</td>\n",
       "      <td>0</td>\n",
       "      <td>1</td>\n",
       "      <td>178</td>\n",
       "      <td>0</td>\n",
       "      <td>0.8</td>\n",
       "      <td>2</td>\n",
       "      <td>0</td>\n",
       "      <td>2</td>\n",
       "      <td>1</td>\n",
       "    </tr>\n",
       "    <tr>\n",
       "      <th>4</th>\n",
       "      <td>57</td>\n",
       "      <td>0</td>\n",
       "      <td>0</td>\n",
       "      <td>120</td>\n",
       "      <td>354</td>\n",
       "      <td>0</td>\n",
       "      <td>1</td>\n",
       "      <td>163</td>\n",
       "      <td>1</td>\n",
       "      <td>0.6</td>\n",
       "      <td>2</td>\n",
       "      <td>0</td>\n",
       "      <td>2</td>\n",
       "      <td>1</td>\n",
       "    </tr>\n",
       "  </tbody>\n",
       "</table>\n",
       "</div>"
      ],
      "text/plain": [
       "   age  sex  cp  trtbps  chol  fbs  restecg  thalachh  exng  oldpeak  slp  \\\n",
       "0   63    1   3     145   233    1        0       150     0      2.3    0   \n",
       "1   37    1   2     130   250    0        1       187     0      3.5    0   \n",
       "2   41    0   1     130   204    0        0       172     0      1.4    2   \n",
       "3   56    1   1     120   236    0        1       178     0      0.8    2   \n",
       "4   57    0   0     120   354    0        1       163     1      0.6    2   \n",
       "\n",
       "   caa  thall  output  \n",
       "0    0      1       1  \n",
       "1    0      2       1  \n",
       "2    0      2       1  \n",
       "3    0      2       1  \n",
       "4    0      2       1  "
      ]
     },
     "execution_count": 4,
     "metadata": {},
     "output_type": "execute_result"
    }
   ],
   "source": [
    "data.head()"
   ]
  },
  {
   "cell_type": "markdown",
   "id": "reliable-brake",
   "metadata": {
    "papermill": {
     "duration": 0.031881,
     "end_time": "2021-06-30T19:53:21.272442",
     "exception": false,
     "start_time": "2021-06-30T19:53:21.240561",
     "status": "completed"
    },
    "tags": []
   },
   "source": [
    "## Exploratory data analysis (EDA)\n",
    "### 1) For numeric data \n",
    "\n",
    "* Made histograms to understand distributions \n",
    "* Corrplot \n",
    "* Pivot table comparing survival rate across numeric variables \n",
    "\n",
    "### 2) For Categorical Data \n",
    "* Made bar charts to understand balance of classes \n",
    "* Made pivot tables to understand relationship with survival "
   ]
  },
  {
   "cell_type": "code",
   "execution_count": 5,
   "id": "suburban-demonstration",
   "metadata": {
    "execution": {
     "iopub.execute_input": "2021-06-30T19:53:21.373680Z",
     "iopub.status.busy": "2021-06-30T19:53:21.373061Z",
     "iopub.status.idle": "2021-06-30T19:53:21.375674Z",
     "shell.execute_reply": "2021-06-30T19:53:21.376127Z",
     "shell.execute_reply.started": "2021-06-30T19:50:53.875457Z"
    },
    "papermill": {
     "duration": 0.061304,
     "end_time": "2021-06-30T19:53:21.376333",
     "exception": false,
     "start_time": "2021-06-30T19:53:21.315029",
     "status": "completed"
    },
    "tags": []
   },
   "outputs": [
    {
     "name": "stdout",
     "output_type": "stream",
     "text": [
      "<class 'pandas.core.frame.DataFrame'>\n",
      "RangeIndex: 303 entries, 0 to 302\n",
      "Data columns (total 14 columns):\n",
      " #   Column    Non-Null Count  Dtype  \n",
      "---  ------    --------------  -----  \n",
      " 0   age       303 non-null    int64  \n",
      " 1   sex       303 non-null    int64  \n",
      " 2   cp        303 non-null    int64  \n",
      " 3   trtbps    303 non-null    int64  \n",
      " 4   chol      303 non-null    int64  \n",
      " 5   fbs       303 non-null    int64  \n",
      " 6   restecg   303 non-null    int64  \n",
      " 7   thalachh  303 non-null    int64  \n",
      " 8   exng      303 non-null    int64  \n",
      " 9   oldpeak   303 non-null    float64\n",
      " 10  slp       303 non-null    int64  \n",
      " 11  caa       303 non-null    int64  \n",
      " 12  thall     303 non-null    int64  \n",
      " 13  output    303 non-null    int64  \n",
      "dtypes: float64(1), int64(13)\n",
      "memory usage: 33.3 KB\n"
     ]
    }
   ],
   "source": [
    "data.info()"
   ]
  },
  {
   "cell_type": "code",
   "execution_count": 6,
   "id": "recognized-brief",
   "metadata": {
    "execution": {
     "iopub.execute_input": "2021-06-30T19:53:21.437543Z",
     "iopub.status.busy": "2021-06-30T19:53:21.436984Z",
     "iopub.status.idle": "2021-06-30T19:53:21.494924Z",
     "shell.execute_reply": "2021-06-30T19:53:21.494500Z",
     "shell.execute_reply.started": "2021-06-30T19:50:53.901764Z"
    },
    "papermill": {
     "duration": 0.089034,
     "end_time": "2021-06-30T19:53:21.495046",
     "exception": false,
     "start_time": "2021-06-30T19:53:21.406012",
     "status": "completed"
    },
    "tags": []
   },
   "outputs": [
    {
     "data": {
      "text/html": [
       "<div>\n",
       "<style scoped>\n",
       "    .dataframe tbody tr th:only-of-type {\n",
       "        vertical-align: middle;\n",
       "    }\n",
       "\n",
       "    .dataframe tbody tr th {\n",
       "        vertical-align: top;\n",
       "    }\n",
       "\n",
       "    .dataframe thead th {\n",
       "        text-align: right;\n",
       "    }\n",
       "</style>\n",
       "<table border=\"1\" class=\"dataframe\">\n",
       "  <thead>\n",
       "    <tr style=\"text-align: right;\">\n",
       "      <th></th>\n",
       "      <th>age</th>\n",
       "      <th>sex</th>\n",
       "      <th>cp</th>\n",
       "      <th>trtbps</th>\n",
       "      <th>chol</th>\n",
       "      <th>fbs</th>\n",
       "      <th>restecg</th>\n",
       "      <th>thalachh</th>\n",
       "      <th>exng</th>\n",
       "      <th>oldpeak</th>\n",
       "      <th>slp</th>\n",
       "      <th>caa</th>\n",
       "      <th>thall</th>\n",
       "      <th>output</th>\n",
       "    </tr>\n",
       "  </thead>\n",
       "  <tbody>\n",
       "    <tr>\n",
       "      <th>count</th>\n",
       "      <td>303.000000</td>\n",
       "      <td>303.000000</td>\n",
       "      <td>303.000000</td>\n",
       "      <td>303.000000</td>\n",
       "      <td>303.000000</td>\n",
       "      <td>303.000000</td>\n",
       "      <td>303.000000</td>\n",
       "      <td>303.000000</td>\n",
       "      <td>303.000000</td>\n",
       "      <td>303.000000</td>\n",
       "      <td>303.000000</td>\n",
       "      <td>303.000000</td>\n",
       "      <td>303.000000</td>\n",
       "      <td>303.000000</td>\n",
       "    </tr>\n",
       "    <tr>\n",
       "      <th>mean</th>\n",
       "      <td>54.366337</td>\n",
       "      <td>0.683168</td>\n",
       "      <td>0.966997</td>\n",
       "      <td>131.623762</td>\n",
       "      <td>246.264026</td>\n",
       "      <td>0.148515</td>\n",
       "      <td>0.528053</td>\n",
       "      <td>149.646865</td>\n",
       "      <td>0.326733</td>\n",
       "      <td>1.039604</td>\n",
       "      <td>1.399340</td>\n",
       "      <td>0.729373</td>\n",
       "      <td>2.313531</td>\n",
       "      <td>0.544554</td>\n",
       "    </tr>\n",
       "    <tr>\n",
       "      <th>std</th>\n",
       "      <td>9.082101</td>\n",
       "      <td>0.466011</td>\n",
       "      <td>1.032052</td>\n",
       "      <td>17.538143</td>\n",
       "      <td>51.830751</td>\n",
       "      <td>0.356198</td>\n",
       "      <td>0.525860</td>\n",
       "      <td>22.905161</td>\n",
       "      <td>0.469794</td>\n",
       "      <td>1.161075</td>\n",
       "      <td>0.616226</td>\n",
       "      <td>1.022606</td>\n",
       "      <td>0.612277</td>\n",
       "      <td>0.498835</td>\n",
       "    </tr>\n",
       "    <tr>\n",
       "      <th>min</th>\n",
       "      <td>29.000000</td>\n",
       "      <td>0.000000</td>\n",
       "      <td>0.000000</td>\n",
       "      <td>94.000000</td>\n",
       "      <td>126.000000</td>\n",
       "      <td>0.000000</td>\n",
       "      <td>0.000000</td>\n",
       "      <td>71.000000</td>\n",
       "      <td>0.000000</td>\n",
       "      <td>0.000000</td>\n",
       "      <td>0.000000</td>\n",
       "      <td>0.000000</td>\n",
       "      <td>0.000000</td>\n",
       "      <td>0.000000</td>\n",
       "    </tr>\n",
       "    <tr>\n",
       "      <th>25%</th>\n",
       "      <td>47.500000</td>\n",
       "      <td>0.000000</td>\n",
       "      <td>0.000000</td>\n",
       "      <td>120.000000</td>\n",
       "      <td>211.000000</td>\n",
       "      <td>0.000000</td>\n",
       "      <td>0.000000</td>\n",
       "      <td>133.500000</td>\n",
       "      <td>0.000000</td>\n",
       "      <td>0.000000</td>\n",
       "      <td>1.000000</td>\n",
       "      <td>0.000000</td>\n",
       "      <td>2.000000</td>\n",
       "      <td>0.000000</td>\n",
       "    </tr>\n",
       "    <tr>\n",
       "      <th>50%</th>\n",
       "      <td>55.000000</td>\n",
       "      <td>1.000000</td>\n",
       "      <td>1.000000</td>\n",
       "      <td>130.000000</td>\n",
       "      <td>240.000000</td>\n",
       "      <td>0.000000</td>\n",
       "      <td>1.000000</td>\n",
       "      <td>153.000000</td>\n",
       "      <td>0.000000</td>\n",
       "      <td>0.800000</td>\n",
       "      <td>1.000000</td>\n",
       "      <td>0.000000</td>\n",
       "      <td>2.000000</td>\n",
       "      <td>1.000000</td>\n",
       "    </tr>\n",
       "    <tr>\n",
       "      <th>75%</th>\n",
       "      <td>61.000000</td>\n",
       "      <td>1.000000</td>\n",
       "      <td>2.000000</td>\n",
       "      <td>140.000000</td>\n",
       "      <td>274.500000</td>\n",
       "      <td>0.000000</td>\n",
       "      <td>1.000000</td>\n",
       "      <td>166.000000</td>\n",
       "      <td>1.000000</td>\n",
       "      <td>1.600000</td>\n",
       "      <td>2.000000</td>\n",
       "      <td>1.000000</td>\n",
       "      <td>3.000000</td>\n",
       "      <td>1.000000</td>\n",
       "    </tr>\n",
       "    <tr>\n",
       "      <th>max</th>\n",
       "      <td>77.000000</td>\n",
       "      <td>1.000000</td>\n",
       "      <td>3.000000</td>\n",
       "      <td>200.000000</td>\n",
       "      <td>564.000000</td>\n",
       "      <td>1.000000</td>\n",
       "      <td>2.000000</td>\n",
       "      <td>202.000000</td>\n",
       "      <td>1.000000</td>\n",
       "      <td>6.200000</td>\n",
       "      <td>2.000000</td>\n",
       "      <td>4.000000</td>\n",
       "      <td>3.000000</td>\n",
       "      <td>1.000000</td>\n",
       "    </tr>\n",
       "  </tbody>\n",
       "</table>\n",
       "</div>"
      ],
      "text/plain": [
       "              age         sex          cp      trtbps        chol         fbs  \\\n",
       "count  303.000000  303.000000  303.000000  303.000000  303.000000  303.000000   \n",
       "mean    54.366337    0.683168    0.966997  131.623762  246.264026    0.148515   \n",
       "std      9.082101    0.466011    1.032052   17.538143   51.830751    0.356198   \n",
       "min     29.000000    0.000000    0.000000   94.000000  126.000000    0.000000   \n",
       "25%     47.500000    0.000000    0.000000  120.000000  211.000000    0.000000   \n",
       "50%     55.000000    1.000000    1.000000  130.000000  240.000000    0.000000   \n",
       "75%     61.000000    1.000000    2.000000  140.000000  274.500000    0.000000   \n",
       "max     77.000000    1.000000    3.000000  200.000000  564.000000    1.000000   \n",
       "\n",
       "          restecg    thalachh        exng     oldpeak         slp         caa  \\\n",
       "count  303.000000  303.000000  303.000000  303.000000  303.000000  303.000000   \n",
       "mean     0.528053  149.646865    0.326733    1.039604    1.399340    0.729373   \n",
       "std      0.525860   22.905161    0.469794    1.161075    0.616226    1.022606   \n",
       "min      0.000000   71.000000    0.000000    0.000000    0.000000    0.000000   \n",
       "25%      0.000000  133.500000    0.000000    0.000000    1.000000    0.000000   \n",
       "50%      1.000000  153.000000    0.000000    0.800000    1.000000    0.000000   \n",
       "75%      1.000000  166.000000    1.000000    1.600000    2.000000    1.000000   \n",
       "max      2.000000  202.000000    1.000000    6.200000    2.000000    4.000000   \n",
       "\n",
       "            thall      output  \n",
       "count  303.000000  303.000000  \n",
       "mean     2.313531    0.544554  \n",
       "std      0.612277    0.498835  \n",
       "min      0.000000    0.000000  \n",
       "25%      2.000000    0.000000  \n",
       "50%      2.000000    1.000000  \n",
       "75%      3.000000    1.000000  \n",
       "max      3.000000    1.000000  "
      ]
     },
     "execution_count": 6,
     "metadata": {},
     "output_type": "execute_result"
    }
   ],
   "source": [
    "data.describe()"
   ]
  },
  {
   "cell_type": "code",
   "execution_count": 7,
   "id": "nasty-germany",
   "metadata": {
    "execution": {
     "iopub.execute_input": "2021-06-30T19:53:21.566961Z",
     "iopub.status.busy": "2021-06-30T19:53:21.564763Z",
     "iopub.status.idle": "2021-06-30T19:53:21.596370Z",
     "shell.execute_reply": "2021-06-30T19:53:21.596789Z",
     "shell.execute_reply.started": "2021-06-30T19:50:53.967087Z"
    },
    "papermill": {
     "duration": 0.07282,
     "end_time": "2021-06-30T19:53:21.596949",
     "exception": false,
     "start_time": "2021-06-30T19:53:21.524129",
     "status": "completed"
    },
    "tags": []
   },
   "outputs": [
    {
     "data": {
      "text/plain": [
       "Index(['age', 'sex', 'cp', 'trtbps', 'chol', 'fbs', 'restecg', 'thalachh',\n",
       "       'exng', 'oldpeak', 'slp', 'caa', 'thall', 'output'],\n",
       "      dtype='object')"
      ]
     },
     "execution_count": 7,
     "metadata": {},
     "output_type": "execute_result"
    }
   ],
   "source": [
    "data.describe().columns"
   ]
  },
  {
   "cell_type": "code",
   "execution_count": 8,
   "id": "equipped-thousand",
   "metadata": {
    "execution": {
     "iopub.execute_input": "2021-06-30T19:53:21.664526Z",
     "iopub.status.busy": "2021-06-30T19:53:21.663884Z",
     "iopub.status.idle": "2021-06-30T19:53:21.666203Z",
     "shell.execute_reply": "2021-06-30T19:53:21.665634Z",
     "shell.execute_reply.started": "2021-06-30T19:50:54.015600Z"
    },
    "papermill": {
     "duration": 0.038871,
     "end_time": "2021-06-30T19:53:21.666358",
     "exception": false,
     "start_time": "2021-06-30T19:53:21.627487",
     "status": "completed"
    },
    "tags": []
   },
   "outputs": [],
   "source": [
    "# numeric and categorical value separately\n",
    "data_num = data[['age','trtbps','chol','thalachh','oldpeak']]\n",
    "data_cat =data[['sex','cp','fbs','restecg','exng']]"
   ]
  },
  {
   "cell_type": "code",
   "execution_count": 9,
   "id": "mighty-belly",
   "metadata": {
    "execution": {
     "iopub.execute_input": "2021-06-30T19:53:21.746802Z",
     "iopub.status.busy": "2021-06-30T19:53:21.746144Z",
     "iopub.status.idle": "2021-06-30T19:53:22.556897Z",
     "shell.execute_reply": "2021-06-30T19:53:22.556214Z",
     "shell.execute_reply.started": "2021-06-30T19:50:54.024677Z"
    },
    "papermill": {
     "duration": 0.859867,
     "end_time": "2021-06-30T19:53:22.557035",
     "exception": false,
     "start_time": "2021-06-30T19:53:21.697168",
     "status": "completed"
    },
    "tags": []
   },
   "outputs": [
    {
     "data": {
      "image/png": "[encoded data removed]",
      "text/plain": [
       "<Figure size 432x288 with 1 Axes>"
      ]
     },
     "metadata": {
      "needs_background": "light"
     },
     "output_type": "display_data"
    },
    {
     "data": {
      "image/png": "[encoded data removed]",
      "text/plain": [
       "<Figure size 432x288 with 1 Axes>"
      ]
     },
     "metadata": {
      "needs_background": "light"
     },
     "output_type": "display_data"
    },
    {
     "data": {
      "image/png": "[encoded data removed]",
      "text/plain": [
       "<Figure size 432x288 with 1 Axes>"
      ]
     },
     "metadata": {
      "needs_background": "light"
     },
     "output_type": "display_data"
    },
    {
     "data": {
      "image/png": "[encoded data removed]",
      "text/plain": [
       "<Figure size 432x288 with 1 Axes>"
      ]
     },
     "metadata": {
      "needs_background": "light"
     },
     "output_type": "display_data"
    },
    {
     "data": {
      "image/png": "[encoded data removed]",
      "text/plain": [
       "<Figure size 432x288 with 1 Axes>"
      ]
     },
     "metadata": {
      "needs_background": "light"
     },
     "output_type": "display_data"
    }
   ],
   "source": [
    "for i in data_num.columns:\n",
    "    plt.hist(data_num[i])\n",
    "    plt.title(i)\n",
    "    plt.show()"
   ]
  },
  {
   "cell_type": "code",
   "execution_count": 10,
   "id": "alone-traveler",
   "metadata": {
    "execution": {
     "iopub.execute_input": "2021-06-30T19:53:22.633841Z",
     "iopub.status.busy": "2021-06-30T19:53:22.626475Z",
     "iopub.status.idle": "2021-06-30T19:53:22.874798Z",
     "shell.execute_reply": "2021-06-30T19:53:22.875161Z",
     "shell.execute_reply.started": "2021-06-30T19:50:54.988764Z"
    },
    "papermill": {
     "duration": 0.28459,
     "end_time": "2021-06-30T19:53:22.875331",
     "exception": false,
     "start_time": "2021-06-30T19:53:22.590741",
     "status": "completed"
    },
    "tags": []
   },
   "outputs": [
    {
     "name": "stdout",
     "output_type": "stream",
     "text": [
      "               age    trtbps      chol  thalachh   oldpeak\n",
      "age       1.000000  0.279351  0.213678 -0.398522  0.210013\n",
      "trtbps    0.279351  1.000000  0.123174 -0.046698  0.193216\n",
      "chol      0.213678  0.123174  1.000000 -0.009940  0.053952\n",
      "thalachh -0.398522 -0.046698 -0.009940  1.000000 -0.344187\n",
      "oldpeak   0.210013  0.193216  0.053952 -0.344187  1.000000\n"
     ]
    },
    {
     "data": {
      "text/plain": [
       "<AxesSubplot:>"
      ]
     },
     "execution_count": 10,
     "metadata": {},
     "output_type": "execute_result"
    },
    {
     "data": {
      "image/png": "[encoded data removed]",
      "text/plain": [
       "<Figure size 432x288 with 2 Axes>"
      ]
     },
     "metadata": {
      "needs_background": "light"
     },
     "output_type": "display_data"
    }
   ],
   "source": [
    "print(data_num.corr())\n",
    "sns.heatmap(data_num.corr())"
   ]
  },
  {
   "cell_type": "code",
   "execution_count": 11,
   "id": "ordinary-surge",
   "metadata": {
    "execution": {
     "iopub.execute_input": "2021-06-30T19:53:22.943962Z",
     "iopub.status.busy": "2021-06-30T19:53:22.943398Z",
     "iopub.status.idle": "2021-06-30T19:53:22.977928Z",
     "shell.execute_reply": "2021-06-30T19:53:22.978429Z",
     "shell.execute_reply.started": "2021-06-30T19:50:55.300220Z"
    },
    "papermill": {
     "duration": 0.070531,
     "end_time": "2021-06-30T19:53:22.978598",
     "exception": false,
     "start_time": "2021-06-30T19:53:22.908067",
     "status": "completed"
    },
    "tags": []
   },
   "outputs": [
    {
     "data": {
      "text/html": [
       "<div>\n",
       "<style scoped>\n",
       "    .dataframe tbody tr th:only-of-type {\n",
       "        vertical-align: middle;\n",
       "    }\n",
       "\n",
       "    .dataframe tbody tr th {\n",
       "        vertical-align: top;\n",
       "    }\n",
       "\n",
       "    .dataframe thead th {\n",
       "        text-align: right;\n",
       "    }\n",
       "</style>\n",
       "<table border=\"1\" class=\"dataframe\">\n",
       "  <thead>\n",
       "    <tr style=\"text-align: right;\">\n",
       "      <th></th>\n",
       "      <th>age</th>\n",
       "      <th>chol</th>\n",
       "      <th>oldpeak</th>\n",
       "      <th>thalachh</th>\n",
       "      <th>trtbps</th>\n",
       "    </tr>\n",
       "    <tr>\n",
       "      <th>output</th>\n",
       "      <th></th>\n",
       "      <th></th>\n",
       "      <th></th>\n",
       "      <th></th>\n",
       "      <th></th>\n",
       "    </tr>\n",
       "  </thead>\n",
       "  <tbody>\n",
       "    <tr>\n",
       "      <th>0</th>\n",
       "      <td>56.601449</td>\n",
       "      <td>251.086957</td>\n",
       "      <td>1.585507</td>\n",
       "      <td>139.101449</td>\n",
       "      <td>134.398551</td>\n",
       "    </tr>\n",
       "    <tr>\n",
       "      <th>1</th>\n",
       "      <td>52.496970</td>\n",
       "      <td>242.230303</td>\n",
       "      <td>0.583030</td>\n",
       "      <td>158.466667</td>\n",
       "      <td>129.303030</td>\n",
       "    </tr>\n",
       "  </tbody>\n",
       "</table>\n",
       "</div>"
      ],
      "text/plain": [
       "              age        chol   oldpeak    thalachh      trtbps\n",
       "output                                                         \n",
       "0       56.601449  251.086957  1.585507  139.101449  134.398551\n",
       "1       52.496970  242.230303  0.583030  158.466667  129.303030"
      ]
     },
     "execution_count": 11,
     "metadata": {},
     "output_type": "execute_result"
    }
   ],
   "source": [
    "pd.pivot_table(data, index='output', values=['age','trtbps','chol','thalachh','oldpeak'])"
   ]
  },
  {
   "cell_type": "code",
   "execution_count": 12,
   "id": "wrong-corruption",
   "metadata": {
    "execution": {
     "iopub.execute_input": "2021-06-30T19:53:23.050626Z",
     "iopub.status.busy": "2021-06-30T19:53:23.049826Z",
     "iopub.status.idle": "2021-06-30T19:53:23.633605Z",
     "shell.execute_reply": "2021-06-30T19:53:23.634071Z",
     "shell.execute_reply.started": "2021-06-30T19:50:55.345449Z"
    },
    "papermill": {
     "duration": 0.619173,
     "end_time": "2021-06-30T19:53:23.634233",
     "exception": false,
     "start_time": "2021-06-30T19:53:23.015060",
     "status": "completed"
    },
    "tags": []
   },
   "outputs": [
    {
     "data": {
      "image/png": "[encoded data removed]",
      "text/plain": [
       "<Figure size 432x288 with 1 Axes>"
      ]
     },
     "metadata": {
      "needs_background": "light"
     },
     "output_type": "display_data"
    },
    {
     "data": {
      "image/png": "[encoded data removed]",
      "text/plain": [
       "<Figure size 432x288 with 1 Axes>"
      ]
     },
     "metadata": {
      "needs_background": "light"
     },
     "output_type": "display_data"
    },
    {
     "data": {
      "image/png": "[encoded data removed]",
      "text/plain": [
       "<Figure size 432x288 with 1 Axes>"
      ]
     },
     "metadata": {
      "needs_background": "light"
     },
     "output_type": "display_data"
    },
    {
     "data": {
      "image/png": "[encoded data removed]",
      "text/plain": [
       "<Figure size 432x288 with 1 Axes>"
      ]
     },
     "metadata": {
      "needs_background": "light"
     },
     "output_type": "display_data"
    },
    {
     "data": {
      "image/png": "[encoded data removed]",
      "text/plain": [
       "<Figure size 432x288 with 1 Axes>"
      ]
     },
     "metadata": {
      "needs_background": "light"
     },
     "output_type": "display_data"
    }
   ],
   "source": [
    "for i in data_cat.columns:\n",
    "    sns.barplot(data_cat[i].value_counts().index,data_cat[i].value_counts()).set_title(i)\n",
    "    plt.show()"
   ]
  },
  {
   "cell_type": "code",
   "execution_count": 13,
   "id": "average-mirror",
   "metadata": {
    "execution": {
     "iopub.execute_input": "2021-06-30T19:53:23.710636Z",
     "iopub.status.busy": "2021-06-30T19:53:23.709728Z",
     "iopub.status.idle": "2021-06-30T19:53:23.776678Z",
     "shell.execute_reply": "2021-06-30T19:53:23.776144Z",
     "shell.execute_reply.started": "2021-06-30T19:50:56.028157Z"
    },
    "papermill": {
     "duration": 0.105951,
     "end_time": "2021-06-30T19:53:23.776806",
     "exception": false,
     "start_time": "2021-06-30T19:53:23.670855",
     "status": "completed"
    },
    "tags": []
   },
   "outputs": [
    {
     "name": "stdout",
     "output_type": "stream",
     "text": [
      "sex             0          1\n",
      "output                      \n",
      "0       59.041667  56.087719\n",
      "1       54.555556  50.903226\n",
      "====================================================================================================\n",
      "cp              0          1          2          3\n",
      "output                                            \n",
      "0       56.298077  57.444444  58.500000  55.142857\n",
      "1       54.076923  50.024390  52.217391  56.187500\n",
      "====================================================================================================\n",
      "fbs             0          1\n",
      "output                      \n",
      "0       56.362069  57.863636\n",
      "1       51.901408  56.173913\n",
      "====================================================================================================\n",
      "restecg          0          1     2\n",
      "output                             \n",
      "0        57.291139  55.660714  56.0\n",
      "1        53.823529  51.312500  76.0\n",
      "====================================================================================================\n",
      "exng            0          1\n",
      "output                      \n",
      "0       57.048387  56.236842\n",
      "1       52.316901  53.608696\n"
     ]
    }
   ],
   "source": [
    "print(pd.pivot_table(data,index='output',columns='sex', values='age'))\n",
    "print(\"=\"*100)\n",
    "print(pd.pivot_table(data,index='output',columns='cp', values='age'))\n",
    "print(\"=\"*100)\n",
    "print(pd.pivot_table(data,index='output',columns='fbs', values='age'))\n",
    "print(\"=\"*100)\n",
    "print(pd.pivot_table(data,index='output',columns='restecg', values='age'))\n",
    "print(\"=\"*100)\n",
    "print(pd.pivot_table(data,index='output',columns='exng', values='age'))"
   ]
  },
  {
   "cell_type": "code",
   "execution_count": 14,
   "id": "naughty-baltimore",
   "metadata": {
    "execution": {
     "iopub.execute_input": "2021-06-30T19:53:23.867616Z",
     "iopub.status.busy": "2021-06-30T19:53:23.867035Z",
     "iopub.status.idle": "2021-06-30T19:53:23.926357Z",
     "shell.execute_reply": "2021-06-30T19:53:23.925770Z",
     "shell.execute_reply.started": "2021-06-30T19:50:56.120820Z"
    },
    "papermill": {
     "duration": 0.111509,
     "end_time": "2021-06-30T19:53:23.926514",
     "exception": false,
     "start_time": "2021-06-30T19:53:23.815005",
     "status": "completed"
    },
    "tags": []
   },
   "outputs": [
    {
     "name": "stdout",
     "output_type": "stream",
     "text": [
      "sex              0           1\n",
      "output                        \n",
      "0       274.958333  246.061404\n",
      "1       256.750000  230.989247\n",
      "====================================================================================================\n",
      "cp               0           1          2           3\n",
      "output                                               \n",
      "0       251.932692  263.444444  239.00000  253.714286\n",
      "1       245.333333  240.682927  244.26087  229.875000\n",
      "====================================================================================================\n",
      "fbs              0           1\n",
      "output                        \n",
      "0       250.094828  256.318182\n",
      "1       242.612676  239.869565\n",
      "====================================================================================================\n",
      "restecg           0           1           2\n",
      "output                                     \n",
      "0        255.227848  243.517857  283.333333\n",
      "1        255.044118  233.625000  197.000000\n",
      "====================================================================================================\n",
      "exng             0           1\n",
      "output                        \n",
      "0       246.967742  254.447368\n",
      "1       242.485915  240.652174\n"
     ]
    }
   ],
   "source": [
    "print(pd.pivot_table(data,index='output',columns='sex', values='chol'))\n",
    "print(\"=\"*100)\n",
    "print(pd.pivot_table(data,index='output',columns='cp', values='chol'))\n",
    "print(\"=\"*100)\n",
    "print(pd.pivot_table(data,index='output',columns='fbs', values='chol'))\n",
    "print(\"=\"*100)\n",
    "print(pd.pivot_table(data,index='output',columns='restecg', values='chol'))\n",
    "print(\"=\"*100)\n",
    "print(pd.pivot_table(data,index='output',columns='exng', values='chol'))"
   ]
  },
  {
   "cell_type": "markdown",
   "id": "quality-slovenia",
   "metadata": {
    "papermill": {
     "duration": 0.037969,
     "end_time": "2021-06-30T19:53:24.006588",
     "exception": false,
     "start_time": "2021-06-30T19:53:23.968619",
     "status": "completed"
    },
    "tags": []
   },
   "source": [
    "## Data Preprocessing and Normailzation\n",
    "Use the percentile technique to normalize the columns."
   ]
  },
  {
   "cell_type": "code",
   "execution_count": 15,
   "id": "express-mediterranean",
   "metadata": {
    "execution": {
     "iopub.execute_input": "2021-06-30T19:53:24.086639Z",
     "iopub.status.busy": "2021-06-30T19:53:24.085891Z",
     "iopub.status.idle": "2021-06-30T19:53:24.590148Z",
     "shell.execute_reply": "2021-06-30T19:53:24.590621Z",
     "shell.execute_reply.started": "2021-06-30T19:50:56.210622Z"
    },
    "papermill": {
     "duration": 0.547006,
     "end_time": "2021-06-30T19:53:24.590782",
     "exception": false,
     "start_time": "2021-06-30T19:53:24.043776",
     "status": "completed"
    },
    "tags": []
   },
   "outputs": [
    {
     "data": {
      "image/png": "[encoded data removed]",
      "text/plain": [
       "<Figure size 432x288 with 1 Axes>"
      ]
     },
     "metadata": {
      "needs_background": "light"
     },
     "output_type": "display_data"
    },
    {
     "data": {
      "image/png": "[encoded data removed]",
      "text/plain": [
       "<Figure size 432x288 with 1 Axes>"
      ]
     },
     "metadata": {
      "needs_background": "light"
     },
     "output_type": "display_data"
    },
    {
     "data": {
      "image/png": "[encoded data removed]",
      "text/plain": [
       "<Figure size 432x288 with 1 Axes>"
      ]
     },
     "metadata": {
      "needs_background": "light"
     },
     "output_type": "display_data"
    },
    {
     "data": {
      "image/png": "[encoded data removed]",
      "text/plain": [
       "<Figure size 432x288 with 1 Axes>"
      ]
     },
     "metadata": {
      "needs_background": "light"
     },
     "output_type": "display_data"
    },
    {
     "data": {
      "image/png": "[encoded data removed]",
      "text/plain": [
       "<Figure size 432x288 with 1 Axes>"
      ]
     },
     "metadata": {
      "needs_background": "light"
     },
     "output_type": "display_data"
    }
   ],
   "source": [
    "for i in data_num.columns:\n",
    "    sns.boxplot(data_num[i])\n",
    "    plt.title(i)\n",
    "    plt.show()"
   ]
  },
  {
   "cell_type": "code",
   "execution_count": 16,
   "id": "handmade-scenario",
   "metadata": {
    "execution": {
     "iopub.execute_input": "2021-06-30T19:53:24.675350Z",
     "iopub.status.busy": "2021-06-30T19:53:24.674620Z",
     "iopub.status.idle": "2021-06-30T19:53:24.678930Z",
     "shell.execute_reply": "2021-06-30T19:53:24.679398Z",
     "shell.execute_reply.started": "2021-06-30T19:50:56.847946Z"
    },
    "papermill": {
     "duration": 0.047367,
     "end_time": "2021-06-30T19:53:24.679536",
     "exception": false,
     "start_time": "2021-06-30T19:53:24.632169",
     "status": "completed"
    },
    "tags": []
   },
   "outputs": [],
   "source": [
    "def outlinefree(dataCol):\n",
    "    # sorting column\n",
    "    sorted(dataCol)\n",
    "    \n",
    "    # getting percentile 25 and 27 that will help us for getting IQR (interquartile range)\n",
    "    Q1,Q3 = np.percentile(dataCol,[25,75])\n",
    "    \n",
    "    # getting IQR (interquartile range)\n",
    "    IQR = Q3-Q1\n",
    "    \n",
    "    # getting Lower range error\n",
    "    LowerRange = Q1-(1.5 * IQR)\n",
    "    \n",
    "    # getting upper range error\n",
    "    UpperRange = Q3+(1.5 * IQR)\n",
    "    \n",
    "    # return Lower range and upper range.\n",
    "    return LowerRange,UpperRange"
   ]
  },
  {
   "cell_type": "code",
   "execution_count": 17,
   "id": "welcome-clearance",
   "metadata": {
    "execution": {
     "iopub.execute_input": "2021-06-30T19:53:24.762431Z",
     "iopub.status.busy": "2021-06-30T19:53:24.761855Z",
     "iopub.status.idle": "2021-06-30T19:53:24.768839Z",
     "shell.execute_reply": "2021-06-30T19:53:24.768058Z",
     "shell.execute_reply.started": "2021-06-30T19:50:56.856317Z"
    },
    "papermill": {
     "duration": 0.04928,
     "end_time": "2021-06-30T19:53:24.768997",
     "exception": false,
     "start_time": "2021-06-30T19:53:24.719717",
     "status": "completed"
    },
    "tags": []
   },
   "outputs": [],
   "source": [
    "lwtrtbps,uptrtbps = outlinefree(data['trtbps'])\n",
    "lwchol,upchol = outlinefree(data['chol'])\n",
    "lwoldpeak,upoldpeak = outlinefree(data['oldpeak'])"
   ]
  },
  {
   "cell_type": "code",
   "execution_count": 18,
   "id": "heavy-transsexual",
   "metadata": {
    "execution": {
     "iopub.execute_input": "2021-06-30T19:53:24.872181Z",
     "iopub.status.busy": "2021-06-30T19:53:24.871580Z",
     "iopub.status.idle": "2021-06-30T19:53:24.874524Z",
     "shell.execute_reply": "2021-06-30T19:53:24.873916Z",
     "shell.execute_reply.started": "2021-06-30T19:50:56.869489Z"
    },
    "papermill": {
     "duration": 0.058625,
     "end_time": "2021-06-30T19:53:24.874690",
     "exception": false,
     "start_time": "2021-06-30T19:53:24.816065",
     "status": "completed"
    },
    "tags": []
   },
   "outputs": [],
   "source": [
    "data['trtbps'].replace(list(data[data['trtbps'] > uptrtbps].trtbps) ,uptrtbps,inplace=True)\n",
    "data['chol'].replace(list(data[data['chol'] > upchol].chol) ,upchol,inplace=True)\n",
    "data['oldpeak'].replace(list(data[data['oldpeak'] > upoldpeak].oldpeak) ,upoldpeak,inplace=True)"
   ]
  },
  {
   "cell_type": "markdown",
   "id": "promotional-ancient",
   "metadata": {
    "papermill": {
     "duration": 0.041117,
     "end_time": "2021-06-30T19:53:24.959238",
     "exception": false,
     "start_time": "2021-06-30T19:53:24.918121",
     "status": "completed"
    },
    "tags": []
   },
   "source": [
    "## Feature Engineering"
   ]
  },
  {
   "cell_type": "code",
   "execution_count": 19,
   "id": "fancy-truth",
   "metadata": {
    "execution": {
     "iopub.execute_input": "2021-06-30T19:53:25.045951Z",
     "iopub.status.busy": "2021-06-30T19:53:25.045388Z",
     "iopub.status.idle": "2021-06-30T19:53:25.048223Z",
     "shell.execute_reply": "2021-06-30T19:53:25.047802Z",
     "shell.execute_reply.started": "2021-06-30T19:50:56.896744Z"
    },
    "papermill": {
     "duration": 0.048615,
     "end_time": "2021-06-30T19:53:25.048389",
     "exception": false,
     "start_time": "2021-06-30T19:53:24.999774",
     "status": "completed"
    },
    "tags": []
   },
   "outputs": [],
   "source": [
    "features = data.iloc[:,:-1].values\n",
    "label = data.iloc[:,-1].values"
   ]
  },
  {
   "cell_type": "markdown",
   "id": "indonesian-eleven",
   "metadata": {
    "papermill": {
     "duration": 0.040342,
     "end_time": "2021-06-30T19:53:25.130010",
     "exception": false,
     "start_time": "2021-06-30T19:53:25.089668",
     "status": "completed"
    },
    "tags": []
   },
   "source": [
    "# Model Building\n",
    "I like to see how various different models perform with default parameters on dataset and checking F1 score.\n",
    "\n",
    "1. **LogisticRegression  0.9268292682926829**\n",
    "2. K-Nearest Neighbor(KNN) 0.7865168539325843\n",
    "3. support vector classification 0.7999999999999999\n",
    "4. naive bayes 0.9090909090909092"
   ]
  },
  {
   "cell_type": "code",
   "execution_count": 20,
   "id": "valued-function",
   "metadata": {
    "execution": {
     "iopub.execute_input": "2021-06-30T19:53:25.234023Z",
     "iopub.status.busy": "2021-06-30T19:53:25.233386Z",
     "iopub.status.idle": "2021-06-30T19:53:25.264863Z",
     "shell.execute_reply": "2021-06-30T19:53:25.264401Z",
     "shell.execute_reply.started": "2021-06-30T19:50:56.914041Z"
    },
    "papermill": {
     "duration": 0.093565,
     "end_time": "2021-06-30T19:53:25.264980",
     "exception": false,
     "start_time": "2021-06-30T19:53:25.171415",
     "status": "completed"
    },
    "tags": []
   },
   "outputs": [
    {
     "name": "stdout",
     "output_type": "stream",
     "text": [
      "test score: 0.9210526315789473 train score: 0.8281938325991189 \n",
      "\n"
     ]
    },
    {
     "data": {
      "text/plain": [
       "array([[32,  2],\n",
       "       [ 4, 38]])"
      ]
     },
     "execution_count": 20,
     "metadata": {},
     "output_type": "execute_result"
    }
   ],
   "source": [
    "#------------------------LogisticRegression-----------------------\n",
    "X_train, X_test, y_train, y_test= train_test_split(features,label, test_size= 0.25, random_state=102)\n",
    "\n",
    "classimodel= LogisticRegression()  \n",
    "classimodel.fit(X_train, y_train)\n",
    "trainscore =  classimodel.score(X_train,y_train)\n",
    "testscore =  classimodel.score(X_test,y_test)  \n",
    "\n",
    "print(\"test score: {} train score: {}\".format(testscore,trainscore),'\\n')\n",
    "\n",
    "y_pred =  classimodel.predict(X_test)\n",
    "\n",
    "#from sklearn.metrics import confusion_matrix\n",
    "confusion_matrix(y_test, y_pred)"
   ]
  },
  {
   "cell_type": "code",
   "execution_count": 21,
   "id": "british-islam",
   "metadata": {
    "execution": {
     "iopub.execute_input": "2021-06-30T19:53:25.353450Z",
     "iopub.status.busy": "2021-06-30T19:53:25.352871Z",
     "iopub.status.idle": "2021-06-30T19:53:25.366177Z",
     "shell.execute_reply": "2021-06-30T19:53:25.365705Z",
     "shell.execute_reply.started": "2021-06-30T19:50:56.978708Z"
    },
    "papermill": {
     "duration": 0.060706,
     "end_time": "2021-06-30T19:53:25.366313",
     "exception": false,
     "start_time": "2021-06-30T19:53:25.305607",
     "status": "completed"
    },
    "tags": []
   },
   "outputs": [
    {
     "name": "stdout",
     "output_type": "stream",
     "text": [
      " f1 score:  0.9268292682926829 \n",
      "\n",
      " precision score:  0.95 \n",
      "\n",
      " recall score:  0.9047619047619048 \n",
      "\n",
      "              precision    recall  f1-score   support\n",
      "\n",
      "           0       0.89      0.94      0.91        34\n",
      "           1       0.95      0.90      0.93        42\n",
      "\n",
      "    accuracy                           0.92        76\n",
      "   macro avg       0.92      0.92      0.92        76\n",
      "weighted avg       0.92      0.92      0.92        76\n",
      "\n"
     ]
    }
   ],
   "source": [
    "print(' f1 score: ',f1_score(y_test, y_pred),'\\n')\n",
    "print(' precision score: ',precision_score(y_test, y_pred),'\\n')\n",
    "print(' recall score: ',recall_score(y_test, y_pred),'\\n')\n",
    "print(classification_report(y_test, y_pred))"
   ]
  },
  {
   "cell_type": "code",
   "execution_count": 22,
   "id": "saving-nowhere",
   "metadata": {
    "execution": {
     "iopub.execute_input": "2021-06-30T19:53:25.454737Z",
     "iopub.status.busy": "2021-06-30T19:53:25.454168Z",
     "iopub.status.idle": "2021-06-30T19:53:25.478936Z",
     "shell.execute_reply": "2021-06-30T19:53:25.478428Z",
     "shell.execute_reply.started": "2021-06-30T19:50:57.000624Z"
    },
    "papermill": {
     "duration": 0.071588,
     "end_time": "2021-06-30T19:53:25.479068",
     "exception": false,
     "start_time": "2021-06-30T19:53:25.407480",
     "status": "completed"
    },
    "tags": []
   },
   "outputs": [
    {
     "name": "stdout",
     "output_type": "stream",
     "text": [
      "test score: 0.75 train score: 0.748898678414097 \n",
      "\n",
      "[[22 10]\n",
      " [ 9 35]]\n"
     ]
    }
   ],
   "source": [
    "#--------------------------------------K-Nearest Neighbor(KNN)-----------------\n",
    "X_train, X_test, y_train, y_test= train_test_split(features,label, test_size= 0.25, random_state=193) \n",
    "\n",
    "\n",
    "classifier= KNeighborsClassifier()  \n",
    "knnmodel =  classifier.fit(X_train, y_train) \n",
    "\n",
    "trainscore =  knnmodel.score(X_train,y_train)\n",
    "testscore =  knnmodel.score(X_test,y_test)  \n",
    "\n",
    "print(\"test score: {} train score: {}\".format(testscore,trainscore),'\\n')\n",
    "\n",
    "y_predknn =  knnmodel.predict(X_test)\n",
    "\n",
    "print(confusion_matrix(y_test, y_predknn))"
   ]
  },
  {
   "cell_type": "code",
   "execution_count": 23,
   "id": "tropical-election",
   "metadata": {
    "execution": {
     "iopub.execute_input": "2021-06-30T19:53:25.567440Z",
     "iopub.status.busy": "2021-06-30T19:53:25.566843Z",
     "iopub.status.idle": "2021-06-30T19:53:25.578878Z",
     "shell.execute_reply": "2021-06-30T19:53:25.578390Z",
     "shell.execute_reply.started": "2021-06-30T19:50:57.041665Z"
    },
    "papermill": {
     "duration": 0.059188,
     "end_time": "2021-06-30T19:53:25.579005",
     "exception": false,
     "start_time": "2021-06-30T19:53:25.519817",
     "status": "completed"
    },
    "tags": []
   },
   "outputs": [
    {
     "name": "stdout",
     "output_type": "stream",
     "text": [
      "f1_score:  0.7865168539325843 \n",
      "\n",
      "precision_score:  0.7777777777777778 \n",
      "\n",
      "recall_score:  0.7954545454545454 \n",
      "\n",
      "              precision    recall  f1-score   support\n",
      "\n",
      "           0       0.71      0.69      0.70        32\n",
      "           1       0.78      0.80      0.79        44\n",
      "\n",
      "    accuracy                           0.75        76\n",
      "   macro avg       0.74      0.74      0.74        76\n",
      "weighted avg       0.75      0.75      0.75        76\n",
      "\n"
     ]
    }
   ],
   "source": [
    "print(\"f1_score: \",f1_score(y_test, y_predknn),'\\n')\n",
    "print(\"precision_score: \",precision_score(y_test, y_predknn),'\\n')\n",
    "print(\"recall_score: \",recall_score(y_test, y_predknn),'\\n')\n",
    "print(classification_report(y_test, y_predknn))\n"
   ]
  },
  {
   "cell_type": "code",
   "execution_count": 24,
   "id": "major-mediterranean",
   "metadata": {
    "execution": {
     "iopub.execute_input": "2021-06-30T19:53:25.669435Z",
     "iopub.status.busy": "2021-06-30T19:53:25.668444Z",
     "iopub.status.idle": "2021-06-30T19:53:25.676203Z",
     "shell.execute_reply": "2021-06-30T19:53:25.675755Z",
     "shell.execute_reply.started": "2021-06-30T19:50:57.061861Z"
    },
    "papermill": {
     "duration": 0.056221,
     "end_time": "2021-06-30T19:53:25.676335",
     "exception": false,
     "start_time": "2021-06-30T19:53:25.620114",
     "status": "completed"
    },
    "tags": []
   },
   "outputs": [
    {
     "name": "stdout",
     "output_type": "stream",
     "text": [
      "test score: 0.8947368421052632 train score: 0.8370044052863436 \n",
      "\n",
      "[[28  5]\n",
      " [ 3 40]]\n"
     ]
    }
   ],
   "source": [
    "#------------------------------naive bayes---------------------------\n",
    "X_train, X_test, y_train, y_test= train_test_split(features,label, test_size= 0.25, random_state=34) \n",
    "\n",
    "NBmodel = GaussianNB()  \n",
    "NBmodel.fit(X_train, y_train) \n",
    "\n",
    "trainscore =  NBmodel.score(X_train,y_train)\n",
    "testscore =  NBmodel.score(X_test,y_test)  \n",
    "\n",
    "print(\"test score: {} train score: {}\".format(testscore,trainscore),'\\n')\n",
    "y_predNB =  NBmodel.predict(X_test)\n",
    "print(confusion_matrix(y_test, y_predNB))"
   ]
  },
  {
   "cell_type": "code",
   "execution_count": 25,
   "id": "centered-history",
   "metadata": {
    "execution": {
     "iopub.execute_input": "2021-06-30T19:53:25.768669Z",
     "iopub.status.busy": "2021-06-30T19:53:25.767172Z",
     "iopub.status.idle": "2021-06-30T19:53:25.781154Z",
     "shell.execute_reply": "2021-06-30T19:53:25.780679Z",
     "shell.execute_reply.started": "2021-06-30T19:50:57.077638Z"
    },
    "papermill": {
     "duration": 0.062856,
     "end_time": "2021-06-30T19:53:25.781306",
     "exception": false,
     "start_time": "2021-06-30T19:53:25.718450",
     "status": "completed"
    },
    "tags": []
   },
   "outputs": [
    {
     "name": "stdout",
     "output_type": "stream",
     "text": [
      "f1_score:  0.9090909090909092 \n",
      "\n",
      "precision_score:  0.8888888888888888 \n",
      "\n",
      "recall_score:  0.9302325581395349 \n",
      "\n",
      "              precision    recall  f1-score   support\n",
      "\n",
      "           0       0.90      0.85      0.88        33\n",
      "           1       0.89      0.93      0.91        43\n",
      "\n",
      "    accuracy                           0.89        76\n",
      "   macro avg       0.90      0.89      0.89        76\n",
      "weighted avg       0.90      0.89      0.89        76\n",
      "\n"
     ]
    }
   ],
   "source": [
    "print(\"f1_score: \",f1_score(y_test, y_predNB),'\\n')\n",
    "print(\"precision_score: \",precision_score(y_test, y_predNB),'\\n')\n",
    "print(\"recall_score: \",recall_score(y_test, y_predNB),'\\n')\n",
    "print(classification_report(y_test, y_predNB))"
   ]
  },
  {
   "cell_type": "code",
   "execution_count": 26,
   "id": "czech-circulation",
   "metadata": {
    "execution": {
     "iopub.execute_input": "2021-06-30T19:53:25.875038Z",
     "iopub.status.busy": "2021-06-30T19:53:25.874495Z",
     "iopub.status.idle": "2021-06-30T19:53:25.899405Z",
     "shell.execute_reply": "2021-06-30T19:53:25.900007Z",
     "shell.execute_reply.started": "2021-06-30T19:50:57.102224Z"
    },
    "papermill": {
     "duration": 0.075711,
     "end_time": "2021-06-30T19:53:25.900202",
     "exception": false,
     "start_time": "2021-06-30T19:53:25.824491",
     "status": "completed"
    },
    "tags": []
   },
   "outputs": [
    {
     "name": "stdout",
     "output_type": "stream",
     "text": [
      "test score: 0.75 train score: 0.6916299559471366 \n",
      "\n",
      "[[19 10]\n",
      " [ 9 38]]\n"
     ]
    }
   ],
   "source": [
    "#-------------------------------- support vector classification -------------------------------------  \n",
    "X_train, X_test, y_train, y_test= train_test_split(features,label, test_size= 0.25, random_state=8) \n",
    "\n",
    "svcmodel = SVC(probability=True)  \n",
    "svcmodel.fit(X_train, y_train) \n",
    "\n",
    "trainscore =  svcmodel.score(X_train,y_train)\n",
    "testscore =  svcmodel.score(X_test,y_test)  \n",
    "\n",
    "print(\"test score: {} train score: {}\".format(testscore,trainscore),'\\n')\n",
    "\n",
    "y_predsvc =  svcmodel.predict(X_test)\n",
    "\n",
    "print(confusion_matrix(y_test, y_predsvc))"
   ]
  },
  {
   "cell_type": "code",
   "execution_count": 27,
   "id": "ceramic-definition",
   "metadata": {
    "execution": {
     "iopub.execute_input": "2021-06-30T19:53:25.992608Z",
     "iopub.status.busy": "2021-06-30T19:53:25.991730Z",
     "iopub.status.idle": "2021-06-30T19:53:26.005701Z",
     "shell.execute_reply": "2021-06-30T19:53:26.006277Z",
     "shell.execute_reply.started": "2021-06-30T19:50:57.153979Z"
    },
    "papermill": {
     "duration": 0.061916,
     "end_time": "2021-06-30T19:53:26.006464",
     "exception": false,
     "start_time": "2021-06-30T19:53:25.944548",
     "status": "completed"
    },
    "tags": []
   },
   "outputs": [
    {
     "name": "stdout",
     "output_type": "stream",
     "text": [
      "f1_score:  0.7999999999999999 \n",
      "\n",
      "precision_score:  0.7916666666666666 \n",
      "\n",
      "recall_score:  0.8085106382978723 \n",
      "\n",
      "              precision    recall  f1-score   support\n",
      "\n",
      "           0       0.68      0.66      0.67        29\n",
      "           1       0.79      0.81      0.80        47\n",
      "\n",
      "    accuracy                           0.75        76\n",
      "   macro avg       0.74      0.73      0.73        76\n",
      "weighted avg       0.75      0.75      0.75        76\n",
      " \n",
      "\n"
     ]
    }
   ],
   "source": [
    "print(\"f1_score: \",f1_score(y_test, y_predsvc),'\\n')\n",
    "print(\"precision_score: \",precision_score(y_test, y_predsvc),'\\n')\n",
    "print(\"recall_score: \",recall_score(y_test, y_predsvc),'\\n')\n",
    "print(classification_report(y_test, y_predsvc),'\\n')"
   ]
  },
  {
   "cell_type": "markdown",
   "id": "stock-general",
   "metadata": {
    "papermill": {
     "duration": 0.043123,
     "end_time": "2021-06-30T19:53:26.094151",
     "exception": false,
     "start_time": "2021-06-30T19:53:26.051028",
     "status": "completed"
    },
    "tags": []
   },
   "source": [
    "## ROC Curve\n",
    "I like to see how the ROC Curve performs on various different models to get the best Model.\n",
    "\n",
    "1. **LogisticRegression 0.9214756258234519**\n",
    "2. K-Nearest Neighbor(KNN) 0.8049407114624506\n",
    "3. support vector classification 0.7574879227053138\n",
    "4. naive bayes 0.9104084321475626"
   ]
  },
  {
   "cell_type": "code",
   "execution_count": 28,
   "id": "adjustable-episode",
   "metadata": {
    "execution": {
     "iopub.execute_input": "2021-06-30T19:53:26.185033Z",
     "iopub.status.busy": "2021-06-30T19:53:26.183951Z",
     "iopub.status.idle": "2021-06-30T19:53:26.307485Z",
     "shell.execute_reply": "2021-06-30T19:53:26.307937Z",
     "shell.execute_reply.started": "2021-06-30T19:50:57.179935Z"
    },
    "papermill": {
     "duration": 0.170963,
     "end_time": "2021-06-30T19:53:26.308106",
     "exception": false,
     "start_time": "2021-06-30T19:53:26.137143",
     "status": "completed"
    },
    "tags": []
   },
   "outputs": [
    {
     "name": "stdout",
     "output_type": "stream",
     "text": [
      "0.9215195432586736\n"
     ]
    },
    {
     "data": {
      "text/plain": [
       "[<matplotlib.lines.Line2D at 0x7fa566013290>]"
      ]
     },
     "execution_count": 28,
     "metadata": {},
     "output_type": "execute_result"
    },
    {
     "data": {
      "image/png": "[encoded data removed]",
      "text/plain": [
       "<Figure size 432x288 with 1 Axes>"
      ]
     },
     "metadata": {
      "needs_background": "light"
     },
     "output_type": "display_data"
    }
   ],
   "source": [
    "#-------------------------------------- LogisticRegression -------------------------------------\n",
    "probabilityValues = classimodel.predict_proba(features)[:,1]\n",
    "#Calculate AUC\n",
    "auc = roc_auc_score(label,probabilityValues)\n",
    "print(auc)\n",
    "#Calculate roc_curve\n",
    "fpr,tpr, threshold =  roc_curve(label,probabilityValues)\n",
    "plt.plot([0,1],[0,1], linestyle = '--')\n",
    "plt.plot(fpr,tpr)"
   ]
  },
  {
   "cell_type": "code",
   "execution_count": 29,
   "id": "affiliated-watts",
   "metadata": {
    "execution": {
     "iopub.execute_input": "2021-06-30T19:53:26.405098Z",
     "iopub.status.busy": "2021-06-30T19:53:26.404514Z",
     "iopub.status.idle": "2021-06-30T19:53:26.539966Z",
     "shell.execute_reply": "2021-06-30T19:53:26.539456Z",
     "shell.execute_reply.started": "2021-06-30T19:50:57.451166Z"
    },
    "papermill": {
     "duration": 0.18432,
     "end_time": "2021-06-30T19:53:26.540080",
     "exception": false,
     "start_time": "2021-06-30T19:53:26.355760",
     "status": "completed"
    },
    "tags": []
   },
   "outputs": [
    {
     "name": "stdout",
     "output_type": "stream",
     "text": [
      "0.8049407114624506\n"
     ]
    },
    {
     "data": {
      "text/plain": [
       "[<matplotlib.lines.Line2D at 0x7fa565f95250>]"
      ]
     },
     "execution_count": 29,
     "metadata": {},
     "output_type": "execute_result"
    },
    {
     "data": {
      "image/png": "[encoded data removed]",
      "text/plain": [
       "<Figure size 432x288 with 1 Axes>"
      ]
     },
     "metadata": {
      "needs_background": "light"
     },
     "output_type": "display_data"
    }
   ],
   "source": [
    "#-------------------------------------- KNeighborsClassifier -------------------------------------\n",
    "probabilityValues = knnmodel.predict_proba(features)[:,1]\n",
    "#Calculate AUC\n",
    "auc = roc_auc_score(label,probabilityValues)\n",
    "print(auc)\n",
    "#Calculate roc_curve\n",
    "fpr,tpr, threshold =  roc_curve(label,probabilityValues)\n",
    "plt.plot([0,1],[0,1], linestyle = '--')\n",
    "plt.plot(fpr,tpr)"
   ]
  },
  {
   "cell_type": "code",
   "execution_count": 30,
   "id": "deadly-harvey",
   "metadata": {
    "execution": {
     "iopub.execute_input": "2021-06-30T19:53:26.631226Z",
     "iopub.status.busy": "2021-06-30T19:53:26.630736Z",
     "iopub.status.idle": "2021-06-30T19:53:26.758533Z",
     "shell.execute_reply": "2021-06-30T19:53:26.758982Z",
     "shell.execute_reply.started": "2021-06-30T19:50:57.650156Z"
    },
    "papermill": {
     "duration": 0.176019,
     "end_time": "2021-06-30T19:53:26.759142",
     "exception": false,
     "start_time": "2021-06-30T19:53:26.583123",
     "status": "completed"
    },
    "tags": []
   },
   "outputs": [
    {
     "name": "stdout",
     "output_type": "stream",
     "text": [
      "0.9104084321475626\n"
     ]
    },
    {
     "data": {
      "text/plain": [
       "[<matplotlib.lines.Line2D at 0x7fa565f0f890>]"
      ]
     },
     "execution_count": 30,
     "metadata": {},
     "output_type": "execute_result"
    },
    {
     "data": {
      "image/png": "[encoded data removed]",
      "text/plain": [
       "<Figure size 432x288 with 1 Axes>"
      ]
     },
     "metadata": {
      "needs_background": "light"
     },
     "output_type": "display_data"
    }
   ],
   "source": [
    "#-------------------------------------- naive bayes -------------------------------------\n",
    "probabilityValues = NBmodel.predict_proba(features)[:,1]\n",
    "#Calculate AUC\n",
    "auc = roc_auc_score(label,probabilityValues)\n",
    "print(auc)\n",
    "#Calculate roc_curve\n",
    "fpr,tpr, threshold =  roc_curve(label,probabilityValues)\n",
    "plt.plot([0,1],[0,1], linestyle = '--')\n",
    "plt.plot(fpr,tpr)"
   ]
  },
  {
   "cell_type": "code",
   "execution_count": 31,
   "id": "unlikely-cosmetic",
   "metadata": {
    "execution": {
     "iopub.execute_input": "2021-06-30T19:53:26.864389Z",
     "iopub.status.busy": "2021-06-30T19:53:26.863473Z",
     "iopub.status.idle": "2021-06-30T19:53:26.996687Z",
     "shell.execute_reply": "2021-06-30T19:53:26.996131Z",
     "shell.execute_reply.started": "2021-06-30T19:50:57.808773Z"
    },
    "papermill": {
     "duration": 0.188951,
     "end_time": "2021-06-30T19:53:26.996807",
     "exception": false,
     "start_time": "2021-06-30T19:53:26.807856",
     "status": "completed"
    },
    "tags": []
   },
   "outputs": [
    {
     "name": "stdout",
     "output_type": "stream",
     "text": [
      "0.7573561703996485\n"
     ]
    },
    {
     "data": {
      "text/plain": [
       "[<matplotlib.lines.Line2D at 0x7fa565f0de90>]"
      ]
     },
     "execution_count": 31,
     "metadata": {},
     "output_type": "execute_result"
    },
    {
     "data": {
      "image/png": "[encoded data removed]",
      "text/plain": [
       "<Figure size 432x288 with 1 Axes>"
      ]
     },
     "metadata": {
      "needs_background": "light"
     },
     "output_type": "display_data"
    }
   ],
   "source": [
    "#-------------------------------------- SVC -------------------------------------\n",
    "probabilityValues = svcmodel.predict_proba(features)[:,1]\n",
    "#Calculate AUC\n",
    "auc = roc_auc_score(label,probabilityValues)\n",
    "print(auc)\n",
    "#Calculate roc_curve\n",
    "fpr,tpr, threshold =  roc_curve(label,probabilityValues)\n",
    "plt.plot([0,1],[0,1], linestyle = '--')\n",
    "plt.plot(fpr,tpr)"
   ]
  },
  {
   "cell_type": "markdown",
   "id": "isolated-active",
   "metadata": {
    "papermill": {
     "duration": 0.044759,
     "end_time": "2021-06-30T19:53:27.087814",
     "exception": false,
     "start_time": "2021-06-30T19:53:27.043055",
     "status": "completed"
    },
    "tags": []
   },
   "source": [
    "## Conclusion\n",
    "according to the model and ROC curve, we found the best model for the dataset. **LogisticRegression algorithm** giving us the best result.\n",
    "\n",
    "\n",
    "    f1 score:  0.9268292682926829\n",
    "    ROC curve: 0.9214756258234519"
   ]
  },
  {
   "cell_type": "code",
   "execution_count": null,
   "id": "needed-scene",
   "metadata": {
    "papermill": {
     "duration": 0.04753,
     "end_time": "2021-06-30T19:53:27.180826",
     "exception": false,
     "start_time": "2021-06-30T19:53:27.133296",
     "status": "completed"
    },
    "tags": []
   },
   "outputs": [],
   "source": []
  }
 ],
 "metadata": {
  "kernelspec": {
   "display_name": "Python 3",
   "language": "python",
   "name": "python3"
  },
  "language_info": {
   "codemirror_mode": {
    "name": "ipython",
    "version": 3
   },
   "file_extension": ".py",
   "mimetype": "text/x-python",
   "name": "python",
   "nbconvert_exporter": "python",
   "pygments_lexer": "ipython3",
   "version": "3.7.10"
  },
  "papermill": {
   "default_parameters": {},
   "duration": 15.22028,
   "end_time": "2021-06-30T19:53:27.835395",
   "environment_variables": {},
   "exception": null,
   "input_path": "__notebook__.ipynb",
   "output_path": "__notebook__.ipynb",
   "parameters": {},
   "start_time": "2021-06-30T19:53:12.615115",
   "version": "2.3.3"
  }
 },
 "nbformat": 4,
 "nbformat_minor": 5
}
